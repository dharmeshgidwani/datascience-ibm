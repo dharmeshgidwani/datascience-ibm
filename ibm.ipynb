{
  "metadata": {
    "kernelspec": {
      "name": "python",
      "display_name": "Python (Pyodide)",
      "language": "python"
    },
    "language_info": {
      "codemirror_mode": {
        "name": "python",
        "version": 3
      },
      "file_extension": ".py",
      "mimetype": "text/x-python",
      "name": "python",
      "nbconvert_exporter": "python",
      "pygments_lexer": "ipython3",
      "version": "3.8"
    }
  },
  "nbformat_minor": 5,
  "nbformat": 4,
  "cells": [
    {
      "cell_type": "markdown",
      "source": "<strong>Exercise 2</strong>",
      "metadata": {},
      "id": "fbe3312d-1bc3-4a88-9f0c-b3c4b32e71ef"
    },
    {
      "cell_type": "markdown",
      "source": "ibm.ipynb",
      "metadata": {},
      "id": "c270f550-8c90-4f5a-9cf4-4689796afa7d"
    },
    {
      "cell_type": "markdown",
      "source": "Exercise 3",
      "metadata": {},
      "id": "686c9e8e-fff7-4f82-8086-b7190c85b947"
    },
    {
      "cell_type": "markdown",
      "source": "In this notebook, Data Science Tools and Ecosystem are summarized.",
      "metadata": {},
      "id": "1036ced2-fdb9-4138-88d4-f64caeb36332"
    },
    {
      "cell_type": "markdown",
      "source": "<strong>Exercise 4</strong>",
      "metadata": {},
      "id": "a5b74512-a6ff-4dd2-89cc-d493d3bfd9fe"
    },
    {
      "cell_type": "markdown",
      "source": "<strong>Some data science languages are:</strong>\n<ol><li>Java</li>\n    <li>Julia</li>\n    <li>Scala</li>\n    <li>C/C++</li>\n    <li>JavaScript</li>\n    <li>Python</li>\n    <li>R</li>\n    <li>SQL</li>\n    \n</ol>\n    ",
      "metadata": {},
      "id": "b2b9bcf3-2c0b-48a1-bade-d6c3b8dc774e"
    },
    {
      "cell_type": "markdown",
      "source": "<strong>Exercise 5 </strong>",
      "metadata": {},
      "id": "6015b630-954a-4096-bfc0-dc28b53a378c"
    },
    {
      "cell_type": "markdown",
      "source": "Some of the popular libraries that Data Science libraries are:\n<ol>\n    <li>Matplotlib</li>\n    <li>Keras</li>\n    <li>SciKit Learn</li>\n    <li>Pytorch</li>\n    <li>Tensorflow</li>\n    <li>Numpy</li>\n    <li>Scipy</li>\n    <li>Pandas</li>\n</ol>\n",
      "metadata": {},
      "id": "3c957deb-56d8-43b4-9ab9-7f5efea83c17"
    },
    {
      "cell_type": "markdown",
      "source": "<strong>Exercise 6</strong>",
      "metadata": {},
      "id": "2e054783-ae15-402a-8391-6fbb81ec784a"
    },
    {
      "cell_type": "markdown",
      "source": "Data Science Tools Include\n<table>\n    <tr><th>Apache Spark</th></tr>\n    <tr><th>BigML</th></tr>\n    <tr><th>SAS</th></tr>\n  \n</table>",
      "metadata": {},
      "id": "5c211684-5f77-4c28-bd23-590a3ab0b368"
    },
    {
      "cell_type": "markdown",
      "source": "<strong>Exercise 7</strong>",
      "metadata": {},
      "id": "0ff5d698-28c6-4af7-9fbf-3c8aeac5c162"
    },
    {
      "cell_type": "markdown",
      "source": "<h3>Arithmetic expressions in Python</h3>",
      "metadata": {},
      "id": "05ff289f-d200-40f5-817a-f2d1d65e3474"
    },
    {
      "cell_type": "markdown",
      "source": "# Arithmetic operations\ncode = compile(\"6 + 4\", \"<string>\", \"eval\")\neval(code)\n# Result: 9",
      "metadata": {},
      "id": "9afbf65c-6c43-46d2-97ab-191735a9462f"
    },
    {
      "cell_type": "markdown",
      "source": "code1 = compile(\"(5 + 7) * 2\", \"<string>\", \"eval\")\neval(code1)\n# Result: 24",
      "metadata": {},
      "id": "e1a62936-1e3c-406b-b92b-d4a5ece6c566"
    },
    {
      "cell_type": "markdown",
      "source": "<strong>Exercise 8</strong>",
      "metadata": {},
      "id": "631c4d61-6e2b-45ac-a6a7-e12c80a37434"
    },
    {
      "cell_type": "markdown",
      "source": "This a simple arithmetic expression to mutiply then add integers",
      "metadata": {},
      "id": "a556813e-c573-45d9-a354-b3c4545c24ef"
    },
    {
      "cell_type": "code",
      "source": "(3*4)+5\n# Result: 17",
      "metadata": {},
      "execution_count": 30,
      "outputs": [
        {
          "execution_count": 30,
          "output_type": "execute_result",
          "data": {
            "text/plain": [
              "17"
            ]
          },
          "metadata": {}
        }
      ],
      "id": "ae03f72b-2c05-4884-ae94-adc07167487d"
    },
    {
      "cell_type": "markdown",
      "source": "<strong>Exercise 9</strong>",
      "metadata": {},
      "id": "0d55da1f-c304-40e5-84ce-14243b70e2c0"
    },
    {
      "cell_type": "markdown",
      "source": "This will convert 200 minutes to hours by diving by 60",
      "metadata": {},
      "id": "6a52fcb4-00de-4a39-b368-db083fbc4d61"
    },
    {
      "cell_type": "code",
      "source": "days = 0\nhours = 0\nmins = 0\n\ntime = 200\n#days = time / 1440\nleftover_minutes = time % 1440\nhours = leftover_minutes / 60\n#mins = time - (days*1440) - (hours*60)\nprint(str(days) + \" days, \" + str(hours) + \" hours, \" + str(mins) +  \" mins. \")\n\n# Result: 3.3333333333333335 hours",
      "metadata": {},
      "execution_count": 31,
      "outputs": [
        {
          "name": "stdout",
          "output_type": "stream",
          "text": "0 days, 3.3333333333333335 hours, 0 mins. \n"
        }
      ],
      "id": "383731de-c25b-4b4f-a1ce-44f26b6ae2ab"
    },
    {
      "cell_type": "markdown",
      "source": "<strong>Exercise 10 </strong>",
      "metadata": {},
      "id": "8df63065-35dc-4418-a0dc-51c8589c0ce6"
    },
    {
      "cell_type": "markdown",
      "source": "<p>Some Key takeaways from this course.<br>Objectives:<br>\n<ul><li>Popular languages for data science</li>\n    <li>Popular Tools for data science</li>\n    <li>Arithmetic Expressions</li>\n    <li>Changinge minutes to hours</li>\n   </ul>\n   </p>",
      "metadata": {},
      "id": "2ab21b9e-1ba9-4739-a770-c672cb525d65"
    },
    {
      "cell_type": "markdown",
      "source": "<strong>Exercise 11</strong>",
      "metadata": {},
      "id": "2fe637ac-7c3c-4053-9a9f-7cadbb99d5b6"
    },
    {
      "cell_type": "markdown",
      "source": "<h2>Author:</h2> <h3>Dharmesh Gidwani</h3>",
      "metadata": {
        "tags": []
      },
      "id": "ee566760-e4a1-4439-baf6-5e54e551929f"
    },
    {
      "cell_type": "code",
      "source": "",
      "metadata": {},
      "execution_count": null,
      "outputs": [],
      "id": "9282be71-391e-4369-ac0e-221f28e30bf7"
    }
  ]
}